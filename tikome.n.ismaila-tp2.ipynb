{
 "cells": [
  {
   "cell_type": "markdown",
   "id": "45ec412b-bffc-4633-9b52-096009cd8ce8",
   "metadata": {},
   "source": [
    "## Exercise 1\n",
    "Create a string variable text and assign it the value \"Python is amazing!\"."
   ]
  },
  {
   "cell_type": "code",
   "execution_count": 1,
   "id": "b19c73e9-242d-4550-8398-fa26d4bd1561",
   "metadata": {},
   "outputs": [
    {
     "data": {
      "text/plain": [
       "'Python is amazing'"
      ]
     },
     "execution_count": 1,
     "metadata": {},
     "output_type": "execute_result"
    }
   ],
   "source": [
    "text = 'Python is amazing'\n",
    "text"
   ]
  },
  {
   "cell_type": "markdown",
   "id": "95305bac-63de-4f10-9d38-df7944b496d8",
   "metadata": {},
   "source": [
    "## Exercise 2:\n",
    "Find the length of the string \"Hello, World!\" and store it in a variable length."
   ]
  },
  {
   "cell_type": "code",
   "execution_count": 3,
   "id": "b7082ac3-ad98-4f6b-bfb5-6e0202fae789",
   "metadata": {},
   "outputs": [
    {
     "data": {
      "text/plain": [
       "13"
      ]
     },
     "execution_count": 3,
     "metadata": {},
     "output_type": "execute_result"
    }
   ],
   "source": [
    "string = 'Hello, World!'\n",
    "length = len(string)\n",
    "length"
   ]
  },
  {
   "cell_type": "markdown",
   "id": "f12f10a1-b483-46ad-aa89-a4f3f7fc7cc4",
   "metadata": {},
   "source": [
    "## Exercise 3:\n",
    "Convert the string \"python programming\" to uppercase and store it in a variable upper_text."
   ]
  },
  {
   "cell_type": "code",
   "execution_count": 4,
   "id": "8acc200a-3d35-4a5e-9d34-43bafd61438e",
   "metadata": {},
   "outputs": [
    {
     "data": {
      "text/plain": [
       "'PYTHON PROGRAMMING'"
      ]
     },
     "execution_count": 4,
     "metadata": {},
     "output_type": "execute_result"
    }
   ],
   "source": [
    "string = 'python programming'\n",
    "upper = string.upper()\n",
    "upper"
   ]
  },
  {
   "cell_type": "markdown",
   "id": "181a0279-1a66-429f-a104-ef5ef5c580a8",
   "metadata": {},
   "source": [
    "## Exercise 4:\n",
    "Extract the first 5 characters from the string \"Artificial Intelligence\"."
   ]
  },
  {
   "cell_type": "code",
   "execution_count": 5,
   "id": "10eb034e-164d-4b2f-9e7e-7433fc167d70",
   "metadata": {},
   "outputs": [
    {
     "name": "stdout",
     "output_type": "stream",
     "text": [
      "Artif\n"
     ]
    }
   ],
   "source": [
    "string = 'Artificial Intelligence'\n",
    "print(string[:5])"
   ]
  },
  {
   "cell_type": "markdown",
   "id": "3b0bdcb8-a37e-4efd-9bad-88161f8c549b",
   "metadata": {},
   "source": [
    "## Exercise 5:\n",
    "Concatenate the strings \"Hello\" and \"World\" with a space in between."
   ]
  },
  {
   "cell_type": "code",
   "execution_count": 6,
   "id": "8e1d6c7b-10ed-479c-852c-2e90c9a44873",
   "metadata": {},
   "outputs": [
    {
     "name": "stdout",
     "output_type": "stream",
     "text": [
      "Hello World\n"
     ]
    }
   ],
   "source": [
    "first_word = 'Hello'\n",
    "last_word = 'World'\n",
    "\n",
    "print(first_word + ' ' + last_word)"
   ]
  },
  {
   "cell_type": "markdown",
   "id": "ded78470-2584-4b4e-94bc-c9788889e2d8",
   "metadata": {},
   "source": [
    "## Exercise 6:\n",
    "Replace the word \"dog\" with \"cat\" in the string \"The quick brown dog jumps over the lazy dog.\"."
   ]
  },
  {
   "cell_type": "code",
   "execution_count": 9,
   "id": "fda402cb-944e-41a1-8439-433da02871ad",
   "metadata": {},
   "outputs": [
    {
     "data": {
      "text/plain": [
       "'The quick brown cat jumps over lazy cat.'"
      ]
     },
     "execution_count": 9,
     "metadata": {},
     "output_type": "execute_result"
    }
   ],
   "source": [
    "string = 'The quick brown dog jumps over lazy dog.'\n",
    "string.replace('dog', 'cat')"
   ]
  },
  {
   "cell_type": "markdown",
   "id": "8f4508f1-c856-4b25-8cbb-c2a74167f115",
   "metadata": {},
   "source": [
    "## Exercise 7:\n",
    "Split the string \"apple,banana,orange\" by commas and store the result in a list fruits_list."
   ]
  },
  {
   "cell_type": "code",
   "execution_count": 11,
   "id": "032a37e1-41ae-4521-a25b-2e4130482fd8",
   "metadata": {},
   "outputs": [
    {
     "data": {
      "text/plain": [
       "['apple', ' banana', ' orange']"
      ]
     },
     "execution_count": 11,
     "metadata": {},
     "output_type": "execute_result"
    }
   ],
   "source": [
    "string = 'apple, banana, orange'\n",
    "fruits_list = string.split(',')\n",
    "fruits_list"
   ]
  },
  {
   "cell_type": "markdown",
   "id": "18b5a2fa-48f0-434d-ba39-8d4ea07f2192",
   "metadata": {},
   "source": [
    "## Exercise 8:\n",
    "Use string formatting to create the sentence \"My name is Alice and I am 25 years old.\", where the name and age are variables."
   ]
  },
  {
   "cell_type": "code",
   "execution_count": 12,
   "id": "c5f7e0d8-0884-496b-8c5f-d8a0658499ad",
   "metadata": {},
   "outputs": [
    {
     "name": "stdout",
     "output_type": "stream",
     "text": [
      "My name is Alice and I am 25 years old.\n"
     ]
    }
   ],
   "source": [
    "name = 'Alice'\n",
    "age = 25\n",
    "\n",
    "print(f'My name is {name} and I am {age} years old.')"
   ]
  },
  {
   "cell_type": "markdown",
   "id": "903c451e-4a52-4f80-9017-abd3799bae4b",
   "metadata": {},
   "source": [
    "## Exercise 9:\n",
    "Check if the string \"python\" is present in the sentence \"I love python programming\"."
   ]
  },
  {
   "cell_type": "code",
   "execution_count": 13,
   "id": "78458485-ab35-4c30-ac6d-4ee067d3b6b2",
   "metadata": {},
   "outputs": [
    {
     "name": "stdout",
     "output_type": "stream",
     "text": [
      "True\n"
     ]
    }
   ],
   "source": [
    "sentence = 'I love python programming'\n",
    "print('python' in sentence)"
   ]
  },
  {
   "cell_type": "markdown",
   "id": "386fbf17-0252-4004-a649-b243867d2b2a",
   "metadata": {},
   "source": [
    "## Exercise 10:\n",
    "Count the number of occurrences of the letter \"e\" in the string \"Elephant is an elegant animal\"."
   ]
  },
  {
   "cell_type": "code",
   "execution_count": 14,
   "id": "88ac2ad4-98c0-41be-90a2-20485583d076",
   "metadata": {},
   "outputs": [
    {
     "name": "stdout",
     "output_type": "stream",
     "text": [
      "3\n"
     ]
    }
   ],
   "source": [
    "string = 'Elephant is an elegant animal'\n",
    "print(string.count('e'))"
   ]
  },
  {
   "cell_type": "markdown",
   "id": "4ee238fb-3adb-46e8-8ccd-5aafdb3eaa80",
   "metadata": {},
   "source": [
    "### Exercise 11:\n",
    "Remove any leading and trailing spaces from the string `\"   Data Science   \"`."
   ]
  },
  {
   "cell_type": "code",
   "execution_count": 20,
   "id": "dafb0bb5-a782-4e0d-9e93-bd2ccbc9b9d2",
   "metadata": {},
   "outputs": [
    {
     "name": "stdout",
     "output_type": "stream",
     "text": [
      "Data Science\n"
     ]
    }
   ],
   "source": [
    "string = '   Data Science   '\n",
    "print(string.strip())"
   ]
  },
  {
   "cell_type": "markdown",
   "id": "6a491cde-80f7-48fb-b388-6b13c8dbe5ab",
   "metadata": {},
   "source": [
    "### Exercise 12:\n",
    "Convert the string `\"100\"` into an integer and store it in a variable `int_value`."
   ]
  },
  {
   "cell_type": "code",
   "execution_count": 21,
   "id": "927dc5fc-b5f7-4ebc-8e6f-78e4e8d779ae",
   "metadata": {},
   "outputs": [
    {
     "data": {
      "text/plain": [
       "100"
      ]
     },
     "execution_count": 21,
     "metadata": {},
     "output_type": "execute_result"
    }
   ],
   "source": [
    "string = '100'\n",
    "int_value = int(string)\n",
    "int_value"
   ]
  },
  {
   "cell_type": "markdown",
   "id": "42836536-5741-4473-8546-aa1bc02773da",
   "metadata": {},
   "source": [
    "### Exercise 13:\n",
    "Extract the substring `\"pro\"` from the string `\"programming\"`."
   ]
  },
  {
   "cell_type": "code",
   "execution_count": 22,
   "id": "7cd5a293-88ca-4eb7-b21e-3063fab9db0a",
   "metadata": {},
   "outputs": [
    {
     "name": "stdout",
     "output_type": "stream",
     "text": [
      "pro\n"
     ]
    }
   ],
   "source": [
    "string = 'programming'\n",
    "print(string[:3])"
   ]
  },
  {
   "cell_type": "markdown",
   "id": "570ffdab-1438-4d7c-b8ff-bd82bf37120e",
   "metadata": {},
   "source": [
    "### Exercise 14:\n",
    "Check if the string `\"data\"` starts with `\"da\"` and ends with `\"ta\"`."
   ]
  },
  {
   "cell_type": "code",
   "execution_count": 23,
   "id": "f86b6aeb-5a14-44bf-b89c-6a3a8eb07022",
   "metadata": {},
   "outputs": [
    {
     "name": "stdout",
     "output_type": "stream",
     "text": [
      "True\n"
     ]
    }
   ],
   "source": [
    "string = 'data'\n",
    "\n",
    "if string.startswith('da') and string.endswith('ta'):\n",
    "    print(True)\n",
    "else:\n",
    "    print(False)"
   ]
  },
  {
   "cell_type": "markdown",
   "id": "358d535b-0c58-47a3-bdec-4533d3b23eb4",
   "metadata": {},
   "source": [
    "### Exercise 15:\n",
    "Reverse the string `\"machine learning\"` and store the result in `reversed_text`."
   ]
  },
  {
   "cell_type": "code",
   "execution_count": 25,
   "id": "0edf8a7b-1258-47bb-935b-a2c6e1a56d62",
   "metadata": {},
   "outputs": [
    {
     "data": {
      "text/plain": [
       "'gninrael enihcam'"
      ]
     },
     "execution_count": 25,
     "metadata": {},
     "output_type": "execute_result"
    }
   ],
   "source": [
    "string = 'machine learning'\n",
    "reversed_text = string[::-1]\n",
    "reversed_text"
   ]
  },
  {
   "cell_type": "markdown",
   "id": "ffbf8466-8c36-40d0-9f5d-190e6c565fb4",
   "metadata": {},
   "source": [
    "### Exercise 16:\n",
    "Convert the first letter of each word in the string `\"machine learning is fun\"` to uppercase."
   ]
  },
  {
   "cell_type": "code",
   "execution_count": 27,
   "id": "55cae61d-66c1-487a-924a-23c9b4f5419f",
   "metadata": {},
   "outputs": [
    {
     "data": {
      "text/plain": [
       "'Machine Learning Is Fun'"
      ]
     },
     "execution_count": 27,
     "metadata": {},
     "output_type": "execute_result"
    }
   ],
   "source": [
    "string = 'machine learning is fun'\n",
    "string.title()"
   ]
  },
  {
   "cell_type": "markdown",
   "id": "230a9e45-295f-4c1e-9dc1-f7f1c3f843b2",
   "metadata": {},
   "source": [
    "### Exercise 17:\n",
    "Create a multiline string representing a poem and store it in a variable `poem`."
   ]
  },
  {
   "cell_type": "code",
   "execution_count": 28,
   "id": "cb375e8b-f67f-4282-b58d-6e29e5cefcf9",
   "metadata": {},
   "outputs": [
    {
     "data": {
      "text/plain": [
       "\"\\n    Au fond, ce n'est qu'au moment de disparaître\\n    qu'on saura qui on a été vraiment.\\n    Itachi Uchiwa\\n\""
      ]
     },
     "execution_count": 28,
     "metadata": {},
     "output_type": "execute_result"
    }
   ],
   "source": [
    "poem = \"\"\"\n",
    "    Au fond, ce n'est qu'au moment de disparaître\n",
    "    qu'on saura qui on a été vraiment.\n",
    "    Itachi Uchiwa\n",
    "\"\"\"\n",
    "\n",
    "poem"
   ]
  },
  {
   "cell_type": "markdown",
   "id": "96451071-5732-4eb1-99c7-902b4ebeba8c",
   "metadata": {},
   "source": [
    "### Exercise 18:\n",
    "Write a string to a file named `\"output.txt\"`.\n"
   ]
  },
  {
   "cell_type": "code",
   "execution_count": 29,
   "id": "347585ea-1805-4c77-9e25-16513168358e",
   "metadata": {},
   "outputs": [
    {
     "name": "stdout",
     "output_type": "stream",
     "text": [
      "Hello guys, I'm Tikome Nana Ismaila.\n"
     ]
    }
   ],
   "source": [
    "with open('output.txt', 'w') as file:\n",
    "    file.write('Hello guys, I\\'m Tikome Nana Ismaila.')\n",
    "with open('output.txt') as file:\n",
    "    print(file.read())"
   ]
  },
  {
   "cell_type": "markdown",
   "id": "5d0d34ab-4f5b-4b78-a41c-c38cfebaea6a",
   "metadata": {},
   "source": [
    "### Exercise 19:\n",
    "Read the contents of a file named `\"data.txt\"` and print it line by line."
   ]
  },
  {
   "cell_type": "code",
   "execution_count": 31,
   "id": "234e4e36-dbb0-4fa8-9785-4fbb52402f64",
   "metadata": {},
   "outputs": [
    {
     "name": "stdout",
     "output_type": "stream",
     "text": [
      "Je suis Tikome Nana Ismaila,\n",
      "Etudiant à AIMS Sénégal\n",
      "Mon hobbie? J'aime les Mangas, la lecture, le sport(Basketball) et le voyage.\n"
     ]
    }
   ],
   "source": [
    "with open('data.txt', 'w') as file:\n",
    "    file.write('Je suis Tikome Nana Ismaila,\\nEtudiant à AIMS Sénégal\\nMon hobbie? J\\'aime les Mangas, la lecture, le sport(Basketball) et le voyage.')\n",
    "with open('data.txt') as file:\n",
    "    #for line in file.read():\n",
    "    print(file.read())"
   ]
  },
  {
   "cell_type": "markdown",
   "id": "020aa278-ca27-4e06-9ce8-a1d908b60443",
   "metadata": {},
   "source": [
    "### Exercise 20:\n",
    "Check if a file `\"example.txt\"` exists before opening it."
   ]
  },
  {
   "cell_type": "code",
   "execution_count": 32,
   "id": "edd3dbc8-fe06-4696-b96d-92bb75756c52",
   "metadata": {},
   "outputs": [
    {
     "name": "stdout",
     "output_type": "stream",
     "text": [
      "File don't exists.\n"
     ]
    }
   ],
   "source": [
    "import os\n",
    "\n",
    "if os.path.exists('example.txt'):\n",
    "    with open('example.txt') as file:\n",
    "        content = file.read()\n",
    "else:\n",
    "    print('File don\\'t exists.')"
   ]
  },
  {
   "cell_type": "markdown",
   "id": "68c70d2e-1e68-4eec-b7a3-d0c15d2c2a77",
   "metadata": {},
   "source": [
    "### Exercise 21:\n",
    "Append a new line `\"This is a new line\"` to an existing file `\"notes.txt\"`."
   ]
  },
  {
   "cell_type": "code",
   "execution_count": 34,
   "id": "8609c04b-a3cf-4f4b-bfa5-c7d28e87e6c8",
   "metadata": {},
   "outputs": [
    {
     "name": "stdout",
     "output_type": "stream",
     "text": [
      "This is the content of my document.\n",
      "This is a new line.\n"
     ]
    }
   ],
   "source": [
    "with open('notes.txt','w') as file:\n",
    "    file.write('This is the content of my document.')\n",
    "with open('notes.txt','a') as file:\n",
    "    file.write('\\nThis is a new line.')\n",
    "with open('notes.txt') as file:\n",
    "    print(file.read())"
   ]
  },
  {
   "cell_type": "markdown",
   "id": "d681c4a7-cc2f-4ca9-a0cb-1a2b2f366922",
   "metadata": {},
   "source": [
    "### Exercise 22:\n",
    "Read the contents of a file `\"log.txt\"` and store each line in a list `log_lines`."
   ]
  },
  {
   "cell_type": "code",
   "execution_count": 38,
   "id": "7b45020a-e280-4ee7-b52b-bc5fff24dd19",
   "metadata": {},
   "outputs": [
    {
     "name": "stdout",
     "output_type": "stream",
     "text": [
      "There an error when system running.\n",
      " line 2\n",
      " line 3\n",
      " line 4\n",
      " line 5\n"
     ]
    }
   ],
   "source": [
    "with open('log.txt', 'w') as file:\n",
    "    file.write('There an error when system running.\\n line 2\\n line 3\\n line 4\\n line 5')\n",
    "with open('log.txt') as file:\n",
    "    log_lines = file.read()\n",
    "    print(log_lines)"
   ]
  },
  {
   "cell_type": "markdown",
   "id": "b93e8f80-73dc-4943-a69d-1aa7aae3f479",
   "metadata": {},
   "source": [
    "### Exercise 23:\n",
    "Create a new file `\"report.txt\"` and write the string `\"Data analysis report\"` to it."
   ]
  },
  {
   "cell_type": "code",
   "execution_count": 37,
   "id": "d169862d-91ce-4e44-ac69-7ee4c124974d",
   "metadata": {},
   "outputs": [
    {
     "name": "stdout",
     "output_type": "stream",
     "text": [
      "Data analysis report\n"
     ]
    }
   ],
   "source": [
    "with open('report.txt', 'w') as file:\n",
    "    file.write('Data analysis report')\n",
    "with open('report.txt') as file:\n",
    "    print(file.read())"
   ]
  },
  {
   "cell_type": "markdown",
   "id": "36b656ef-91a8-4c58-aeb3-15962df850ac",
   "metadata": {},
   "source": [
    "### Exercise 24:\n",
    "Replace the word `\"error\"` with `\"issue\"` in a file `\"log.txt\"`."
   ]
  },
  {
   "cell_type": "code",
   "execution_count": 44,
   "id": "1d471992-1248-4f09-b4c4-98e010866723",
   "metadata": {},
   "outputs": [
    {
     "name": "stdout",
     "output_type": "stream",
     "text": [
      "There is an issue\n"
     ]
    }
   ],
   "source": [
    "import os\n",
    "\n",
    "if os.path.exists('log.txt'):\n",
    "    with open('log.txt', 'w') as file:\n",
    "        file.write('There is an error')\n",
    "\n",
    "    with open('log.txt') as file:\n",
    "        content = file.read()\n",
    "        updated_content = content.replace('error', 'issue')\n",
    "    with open('log.txt', 'w') as file:\n",
    "        file.write(updated_content)\n",
    "    with open('log.txt') as file:\n",
    "        print(file.read())\n",
    "\n",
    "else:\n",
    "    print('The file don\\'t exists.')\n",
    "        "
   ]
  },
  {
   "cell_type": "markdown",
   "id": "c02a385e-ee19-44fd-93c3-0c295e9f5b26",
   "metadata": {},
   "source": [
    "### Exercise 25:\n",
    "Count the number of words in a text file `\"document.txt\"`."
   ]
  },
  {
   "cell_type": "code",
   "execution_count": 51,
   "id": "cd6f4ab5-47ed-4810-ba50-7c03499d1ca2",
   "metadata": {},
   "outputs": [
    {
     "name": "stdout",
     "output_type": "stream",
     "text": [
      "7\n"
     ]
    }
   ],
   "source": [
    "text = 'Hello guys How are you doing today'\n",
    "\n",
    "with open('document.txt', 'w') as file:\n",
    "    file.write(text)\n",
    "\n",
    "with open('document.txt') as file:\n",
    "    content = file.read()\n",
    "    words = content.split(' ')\n",
    "    print(len(words))"
   ]
  },
  {
   "cell_type": "markdown",
   "id": "3331b491-37b3-4c2b-8bb1-e849962e87aa",
   "metadata": {},
   "source": [
    "### Exercise 26:\n",
    "Write a Python script that reads a file `\"essay.txt\"` and prints the total number of lines, words, and characters."
   ]
  },
  {
   "cell_type": "code",
   "execution_count": 81,
   "id": "b116eb1d-26ca-4a15-9d49-8f3a8c389417",
   "metadata": {},
   "outputs": [
    {
     "name": "stdout",
     "output_type": "stream",
     "text": [
      "number of words 9.\n",
      "number of caracter 53.\n",
      "number of lines 2.\n"
     ]
    }
   ],
   "source": [
    "with open('essay.txt','w') as file:\n",
    "    file.write('Je suis Tikome Nana Ismaila\\n Etudiant à AIMS Sénégal.')\n",
    "with open('essay.txt') as file:\n",
    "    content = file.read()\n",
    "    words = content.split(' ')\n",
    "    count_words = len(words)\n",
    "\n",
    "    print(f'number of words {count_words}.')\n",
    "    count_char = 0\n",
    "    for char in content:\n",
    "        count_char += 1\n",
    "\n",
    "    print(f'number of caracter {count_char}.')\n",
    "\n",
    "file_content = open('essay.txt')\n",
    "count_lines = 0\n",
    "\n",
    "for line in file_content:\n",
    "    count_lines += 1\n",
    "print(f'number of lines {count_lines}.')"
   ]
  },
  {
   "cell_type": "markdown",
   "id": "99e981df-c7a8-4ba6-b6cc-09e9a6353ce6",
   "metadata": {},
   "source": [
    "### Exercise 27:\n",
    "Copy the contents of one file `\"source.txt\"` to another file `\"destination.txt\"`."
   ]
  },
  {
   "cell_type": "code",
   "execution_count": 71,
   "id": "ab2b3122-0258-4b03-af1d-3a3db772d6f0",
   "metadata": {},
   "outputs": [
    {
     "name": "stdout",
     "output_type": "stream",
     "text": [
      "Programming with python.\n"
     ]
    }
   ],
   "source": [
    "with open('source.txt', 'w') as file:\n",
    "    file.write('Programming with python.')\n",
    "with open('source.txt') as file:\n",
    "    content = file.read()\n",
    "with open('destination.txt', 'w') as file:\n",
    "    file.write(content)\n",
    "\n",
    "with open('destination.txt') as file:\n",
    "    print(file.read())"
   ]
  },
  {
   "cell_type": "markdown",
   "id": "fb5752b9-f80a-4dec-a0b2-ff13abfd234e",
   "metadata": {},
   "source": [
    "### Exercise 28:\n",
    "Write a Python function that takes a filename as input and returns the number of lines in the file."
   ]
  },
  {
   "cell_type": "code",
   "execution_count": 84,
   "id": "42a535a2-bee3-4c21-afa0-41559a8061be",
   "metadata": {},
   "outputs": [
    {
     "name": "stdout",
     "output_type": "stream",
     "text": [
      "number of line(s) 1.\n"
     ]
    }
   ],
   "source": [
    "def number_of_lines(filename):\n",
    "    content = open(filename)\n",
    "    count = 0\n",
    "    for line in content:\n",
    "        count += 1\n",
    "    print(f'number of line(s) {count}.')\n",
    "    content.close()\n",
    "\n",
    "number_of_lines('source.txt')"
   ]
  },
  {
   "cell_type": "markdown",
   "id": "ca333b7b-9e8b-46e9-9491-fd7e6e48f300",
   "metadata": {},
   "source": [
    "## Exercise 29:\n",
    "Extract all the words from a text file \"article.txt\" that contain more than 5 characters."
   ]
  },
  {
   "cell_type": "code",
   "execution_count": 86,
   "id": "a554bbf3-5cad-4e68-bad5-f68c3fc6d001",
   "metadata": {},
   "outputs": [
    {
     "name": "stdout",
     "output_type": "stream",
     "text": [
      "Programming\n",
      "python.\n"
     ]
    }
   ],
   "source": [
    "def extraction(filename):\n",
    "    with open(filename) as file:\n",
    "        content = file.read()\n",
    "        words = content.split(' ')\n",
    "        words_with_6_words = [word for word in words if len(word) > 5]\n",
    "        for i in words_with_6_words:\n",
    "            print(i)\n",
    "\n",
    "extraction('source.txt')"
   ]
  },
  {
   "cell_type": "markdown",
   "id": "84a8c85c-d240-48c4-84ae-02495b340874",
   "metadata": {},
   "source": [
    "## Exercise 30:\n",
    "Convert the contents of a file \"notes.txt\" to uppercase and save the result in another file \"uppercase_notes.txt\"."
   ]
  },
  {
   "cell_type": "code",
   "execution_count": 92,
   "id": "2689bb1b-8bcc-4602-a323-42a1bd7d031d",
   "metadata": {},
   "outputs": [
    {
     "name": "stdout",
     "output_type": "stream",
     "text": [
      "PYTHON IS SO AMAZING.\n"
     ]
    }
   ],
   "source": [
    "with open('notes.txt', 'w') as file:\n",
    "    file.write('python is so amazing.')\n",
    "with open('notes.txt') as file:\n",
    "    content = file.read()\n",
    "with open('uppercase_notes.txt', 'w') as file:\n",
    "    file.write(content.upper())\n",
    "with open('uppercase_notes.txt') as file:\n",
    "    print(file.read())"
   ]
  },
  {
   "cell_type": "markdown",
   "id": "1b699d73-7ad8-4d1b-89ff-c20c78a946d6",
   "metadata": {},
   "source": [
    "### Exercise 31:\n",
    "Write a Python script that reads a file and removes all empty lines."
   ]
  },
  {
   "cell_type": "code",
   "execution_count": 103,
   "id": "3c639dbb-38a8-4094-ac7f-530868a616f0",
   "metadata": {},
   "outputs": [
    {
     "name": "stdout",
     "output_type": "stream",
     "text": [
      "Hello my name is Tikome Nana Ismaila.\n",
      "I'm Student at AIMS Senegal\n",
      "I'll be the next Zuckemberg!\n",
      "\n"
     ]
    }
   ],
   "source": [
    "text = \"\"\"\n",
    "Hello my name is Tikome Nana Ismaila.\n",
    "I'm Student at AIMS Senegal\n",
    "\n",
    "I'll be the next Zuckemberg!\n",
    "\n",
    "\n",
    "\"\"\"\n",
    "\n",
    "with open('text.txt', 'w') as file:\n",
    "    file.write(text)\n",
    "\n",
    "with open('text.txt') as file:\n",
    "    lines = file.readlines()\n",
    "\n",
    "lines_1 = [line for line in lines if line.strip()]\n",
    "\n",
    "with open('text.txt', 'w') as file:\n",
    "    file.writelines(lines_1)\n",
    "\n",
    "with open('text.txt') as file:\n",
    "    print(file.read())"
   ]
  },
  {
   "cell_type": "markdown",
   "id": "fd8a4535-1bd2-43c6-b869-42a711be9dd8",
   "metadata": {},
   "source": [
    "### Exercise 32:\n",
    "Open a file `\"config.txt\"` in both read and write mode."
   ]
  },
  {
   "cell_type": "code",
   "execution_count": 109,
   "id": "80fe1cb3-0dce-4d9e-8351-38fe26edae66",
   "metadata": {},
   "outputs": [
    {
     "name": "stdout",
     "output_type": "stream",
     "text": [
      "Je suis Tikome Nana Ismaila.\n"
     ]
    }
   ],
   "source": [
    "with open('config.txt', 'w') as file:\n",
    "    file.write('Je suis Tikome Nana Ismaila.')\n",
    "f = open('config.txt')\n",
    "\n",
    "print(f.read())\n",
    "f.close()"
   ]
  },
  {
   "cell_type": "markdown",
   "id": "e540ea85-077b-4f7f-8047-90623b460814",
   "metadata": {},
   "source": [
    "### Exercise 33:\n",
    "Write a Python function that reads a file and prints the longest line in the file."
   ]
  },
  {
   "cell_type": "code",
   "execution_count": 118,
   "id": "036d59e3-3342-4ae2-9dd2-e2c75a71518c",
   "metadata": {},
   "outputs": [
    {
     "name": "stdout",
     "output_type": "stream",
     "text": [
      "[1, 41, 29, 35]\n",
      "    Hello guys. I'm Tikome Nana Ismaila.\n",
      "\n"
     ]
    }
   ],
   "source": [
    "text = \"\"\"\n",
    "    Hello guys. I'm Tikome Nana Ismaila.\n",
    "    Student at AIMS Senegal.\n",
    "    I will be the next Zuckemberg.\n",
    "\"\"\"\n",
    "\n",
    "with open('longest.txt','w') as file:\n",
    "    file.write(text)\n",
    "\n",
    "with open('longest.txt') as file:\n",
    "    content = file.readlines()\n",
    "    length = []\n",
    "    for i in content :\n",
    "        length.append(len(i))\n",
    "    print(length)\n",
    "    leng = length.index(max(length))\n",
    "    print(content[leng])"
   ]
  },
  {
   "cell_type": "markdown",
   "id": "0bd5daa2-d192-4c21-aeeb-a126b5ee4f28",
   "metadata": {},
   "source": [
    "### Exercise 34:\n",
    "Write a Python script to count the frequency of each letter in a text file `\"message.txt\"`."
   ]
  },
  {
   "cell_type": "code",
   "execution_count": 122,
   "id": "61aae729-9be0-4209-947e-46ad76432658",
   "metadata": {},
   "outputs": [],
   "source": [
    "with open('message.txt', 'w') as file:\n",
    "    file.write('Hello guys, I am Tikome Nana Ismaila.')\n",
    "with open('message.txt') as file:\n",
    "    content = file.read()\n",
    "    "
   ]
  }
 ],
 "metadata": {
  "kernelspec": {
   "display_name": "Python 3 (ipykernel)",
   "language": "python",
   "name": "python3"
  },
  "language_info": {
   "codemirror_mode": {
    "name": "ipython",
    "version": 3
   },
   "file_extension": ".py",
   "mimetype": "text/x-python",
   "name": "python",
   "nbconvert_exporter": "python",
   "pygments_lexer": "ipython3",
   "version": "3.13.5"
  }
 },
 "nbformat": 4,
 "nbformat_minor": 5
}
