{
 "cells": [
  {
   "cell_type": "markdown",
   "id": "27be2f20-831d-492e-9e5b-3f1ea48517f5",
   "metadata": {},
   "source": [
    "### Exercise 1:\n",
    "Write a Python program that checks if a number is positive or negative."
   ]
  },
  {
   "cell_type": "code",
   "execution_count": 1,
   "id": "e354e0c9-bffd-499f-8462-be0193b4394c",
   "metadata": {},
   "outputs": [
    {
     "name": "stdin",
     "output_type": "stream",
     "text": [
      "Enter a number :  19\n"
     ]
    },
    {
     "name": "stdout",
     "output_type": "stream",
     "text": [
      "this number is positive\n"
     ]
    }
   ],
   "source": [
    "number = int(input('Enter a number : '))\n",
    "\n",
    "if number < 0:\n",
    "    print('this number is negative.')\n",
    "elif number > 0:\n",
    "    print('this number is positive')\n",
    "else:\n",
    "    print('this number is zero')"
   ]
  },
  {
   "cell_type": "markdown",
   "id": "94cdb0da-dfce-4749-b685-a976b61f7372",
   "metadata": {},
   "source": [
    "### Exercise 2:\n",
    "Write a Python function that checks if a string starts with a vowel."
   ]
  },
  {
   "cell_type": "code",
   "execution_count": 5,
   "id": "f1d69e29-d151-4a44-91ed-d9e9e3bd1d84",
   "metadata": {},
   "outputs": [
    {
     "name": "stdin",
     "output_type": "stream",
     "text": [
      "Enter a string : apple\n"
     ]
    },
    {
     "name": "stdout",
     "output_type": "stream",
     "text": [
      "This string starts with vowel\n"
     ]
    }
   ],
   "source": [
    "def starts_with_vowel(string):\n",
    "    if string.startswith('a') or string.startswith('e') or string.startswith('i') or string.startswith('o') or string.startswith('u') or string.startswith('y'):\n",
    "        print('This string starts with vowel')\n",
    "    else:\n",
    "        print('This string starts with conson')\n",
    "string = input('Enter a string :')\n",
    "starts_with_vowel(string)"
   ]
  },
  {
   "cell_type": "markdown",
   "id": "c4361f46-c023-4a93-bf76-e752545e5fd7",
   "metadata": {},
   "source": [
    "### Exercise 3:\n",
    "Write a Python program that takes a list of integers and prints \"Even\" for each even number and \"Odd\" for each odd number."
   ]
  },
  {
   "cell_type": "code",
   "execution_count": 6,
   "id": "d96e2e59-c2e7-48b1-979e-bedfcf4473e2",
   "metadata": {},
   "outputs": [
    {
     "name": "stdout",
     "output_type": "stream",
     "text": [
      "1 is odd\n",
      "2 is even\n",
      "4 is even\n",
      "6 is even\n"
     ]
    }
   ],
   "source": [
    "def even_odd_numbers(list_num):\n",
    "    for i in list_num:\n",
    "        if i%2 == 0:\n",
    "            print(f'{i} is even')\n",
    "        else:\n",
    "            print(f'{i} is odd')\n",
    "\n",
    "even_odd_numbers([1, 2, 4, 6])"
   ]
  },
  {
   "cell_type": "markdown",
   "id": "181b01fb-92fd-4fdf-a59e-a96bc1f68764",
   "metadata": {},
   "source": [
    "### Exercise 4:\n",
    "Write a Python program that checks if a given year is a leap year."
   ]
  },
  {
   "cell_type": "code",
   "execution_count": null,
   "id": "082b6293-8c4e-4da7-97f0-8664f7a6f9e0",
   "metadata": {},
   "outputs": [],
   "source": []
  },
  {
   "cell_type": "markdown",
   "id": "9a2e9b4c-d5fd-4762-84f6-cc6cdd56ea70",
   "metadata": {},
   "source": [
    "### Exercise 5:\n",
    "Write a Python function that checks if a number is divisible by both 3 and 5."
   ]
  },
  {
   "cell_type": "code",
   "execution_count": 13,
   "id": "90092c45-ac6d-4f6d-99ae-af4a60dc8ac4",
   "metadata": {},
   "outputs": [
    {
     "name": "stdin",
     "output_type": "stream",
     "text": [
      "Enter a number : 15\n"
     ]
    },
    {
     "name": "stdout",
     "output_type": "stream",
     "text": [
      "This number is divisible by both 3 and 5\n"
     ]
    }
   ],
   "source": [
    "def check(number):\n",
    "    if number%3 == 0 and number%5 == 0:\n",
    "        print('This number is divisible by both 3 and 5')\n",
    "    else:\n",
    "        print('This number is not divible by 3 and 5.')\n",
    "number = int(input('Enter a number :'))\n",
    "check(number)"
   ]
  },
  {
   "cell_type": "markdown",
   "id": "45a925f9-5282-41cc-8af7-2a02d82416d1",
   "metadata": {},
   "source": [
    "### Exercise 6:\n",
    "Write a Python program that prints \"Hot\" if the temperature is above 30, \"Warm\" if it is between 15 and 30, and \"Cold\" if it is below 15."
   ]
  },
  {
   "cell_type": "code",
   "execution_count": 15,
   "id": "520ef677-8c3c-4383-88bf-3f2f4afec3a6",
   "metadata": {},
   "outputs": [
    {
     "name": "stdin",
     "output_type": "stream",
     "text": [
      "Enter a temperature :  31\n"
     ]
    },
    {
     "name": "stdout",
     "output_type": "stream",
     "text": [
      "Hot\n"
     ]
    }
   ],
   "source": [
    "temperature = int(input('Enter a temperature : '))\n",
    "\n",
    "if temperature >= 15 and temperature <= 30:\n",
    "    print('Warm')\n",
    "elif temperature > 30:\n",
    "    print('Hot')\n",
    "else:\n",
    "    print('Cold.')"
   ]
  }
 ],
 "metadata": {
  "kernelspec": {
   "display_name": "Python 3 (ipykernel)",
   "language": "python",
   "name": "python3"
  },
  "language_info": {
   "codemirror_mode": {
    "name": "ipython",
    "version": 3
   },
   "file_extension": ".py",
   "mimetype": "text/x-python",
   "name": "python",
   "nbconvert_exporter": "python",
   "pygments_lexer": "ipython3",
   "version": "3.13.5"
  }
 },
 "nbformat": 4,
 "nbformat_minor": 5
}
