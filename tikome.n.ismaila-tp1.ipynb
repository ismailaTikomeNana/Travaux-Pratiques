{
 "cells": [
  {
   "cell_type": "markdown",
   "id": "67f98626-92fc-439f-9425-a50c17a3081c",
   "metadata": {},
   "source": [
    "# Practical_1: Variables and Assignments"
   ]
  },
  {
   "cell_type": "markdown",
   "id": "5351f4d7-41cb-4561-a61f-2b454c6745ce",
   "metadata": {},
   "source": [
    "## Exercise 1\n",
    "Declare a variable x and assign it the value 10"
   ]
  },
  {
   "cell_type": "code",
   "execution_count": 1,
   "id": "0abd3b38-f2d4-4510-8d15-063d1c91e035",
   "metadata": {},
   "outputs": [],
   "source": [
    "x  = 10"
   ]
  },
  {
   "cell_type": "markdown",
   "id": "15a1e181-5313-4085-add5-04f44f86ea22",
   "metadata": {},
   "source": [
    "## Exercise 2\n",
    "Assign the value True to a variable called is_valid"
   ]
  },
  {
   "cell_type": "code",
   "execution_count": 2,
   "id": "a63b9336-c134-4225-8a89-9ebd7d471127",
   "metadata": {},
   "outputs": [],
   "source": [
    "is_valid = True"
   ]
  },
  {
   "cell_type": "markdown",
   "id": "d4e2aab4-6401-4015-8c73-dfa4499e35bb",
   "metadata": {},
   "source": [
    "## Exercise 3\n",
    "Create a string variable name with the value \"Python Programming\"."
   ]
  },
  {
   "cell_type": "code",
   "execution_count": 3,
   "id": "71f99c14-9e65-4746-8f20-2129156ebf70",
   "metadata": {},
   "outputs": [],
   "source": [
    "name = 'Python Programming'"
   ]
  },
  {
   "cell_type": "markdown",
   "id": "a8772254-f1ab-408f-a05e-a03dfca9e34a",
   "metadata": {},
   "source": [
    "## Exercise 4\n",
    "Assign the result of 5 + 3 to a variable sum_result."
   ]
  },
  {
   "cell_type": "code",
   "execution_count": 4,
   "id": "026a3212-254a-4929-bfc5-adc9115f95e4",
   "metadata": {},
   "outputs": [],
   "source": [
    "sum_result = 5 + 3"
   ]
  },
  {
   "cell_type": "markdown",
   "id": "e692ad4d-bd54-4357-bfe9-ba8c395bdeea",
   "metadata": {},
   "source": [
    "## Exercise 5\n",
    "Assign multiple variables in one line: a = 5, b = 10, c = 15."
   ]
  },
  {
   "cell_type": "code",
   "execution_count": 5,
   "id": "73c9845d-2453-40eb-a3c1-28bf030723d0",
   "metadata": {},
   "outputs": [],
   "source": [
    "a, b, c = 5, 10, 15"
   ]
  },
  {
   "cell_type": "markdown",
   "id": "58966ac1-dac1-4eea-a5ad-77fe60c138d5",
   "metadata": {},
   "source": [
    "## Exercise 6\n",
    "Assign the value of one variable x to another variable y."
   ]
  },
  {
   "cell_type": "code",
   "execution_count": 6,
   "id": "b6675f4f-aebd-4076-be5e-3187a165daa3",
   "metadata": {},
   "outputs": [],
   "source": [
    "x = 19\n",
    "y = x"
   ]
  },
  {
   "cell_type": "markdown",
   "id": "8b2b1217-1056-4c88-a161-2198a5913741",
   "metadata": {},
   "source": [
    "## Exercise 7\n",
    "Assign a floating-point number 9.8 to a variable gravity."
   ]
  },
  {
   "cell_type": "code",
   "execution_count": 7,
   "id": "b257244a-0ab9-4866-b0e1-2a400bc27fe0",
   "metadata": {},
   "outputs": [],
   "source": [
    "gravity = 9.8"
   ]
  },
  {
   "cell_type": "markdown",
   "id": "f0b64035-03fb-40b8-92da-f4b4c1cc1518",
   "metadata": {},
   "source": [
    "## Exercise 8\n",
    "Create a variable country and assign it the string value of your favorite country."
   ]
  },
  {
   "cell_type": "code",
   "execution_count": 8,
   "id": "92ed94a1-2636-4355-a6a8-127ab3114311",
   "metadata": {},
   "outputs": [],
   "source": [
    "country = 'Japan'"
   ]
  },
  {
   "cell_type": "markdown",
   "id": "fa9191c8-ddda-4804-8cdb-71b358fd07de",
   "metadata": {},
   "source": [
    "## Exercise 9\n",
    "Change the value of variable age from 25 to 26 in two separate steps."
   ]
  },
  {
   "cell_type": "code",
   "execution_count": 9,
   "id": "e5995e65-3f35-4190-89e1-5ab8fcfb6d56",
   "metadata": {},
   "outputs": [],
   "source": [
    "age = 25\n",
    "age = 26"
   ]
  },
  {
   "cell_type": "markdown",
   "id": "ecf8677d-0af1-4d66-a566-21cc0849b292",
   "metadata": {},
   "source": [
    "## Exercise 10\n",
    "Use one variable to store the result of subtracting two numbers 20 - 7."
   ]
  },
  {
   "cell_type": "code",
   "execution_count": 10,
   "id": "8bc79721-cd93-43c1-a5a0-1acf0349b941",
   "metadata": {},
   "outputs": [],
   "source": [
    "result_of_substracting = 20 - 7"
   ]
  },
  {
   "cell_type": "markdown",
   "id": "3271f40c-e8d6-487b-93dd-26a6ef964a79",
   "metadata": {},
   "source": [
    "## Exercise 11\n",
    "Assign an integer value and a floating-point value to two different variables."
   ]
  },
  {
   "cell_type": "code",
   "execution_count": 11,
   "id": "fc4756b7-0867-4711-9611-355231aca182",
   "metadata": {},
   "outputs": [],
   "source": [
    "x = 19\n",
    "x = 18.5"
   ]
  },
  {
   "cell_type": "markdown",
   "id": "3b960d99-c4ec-46c9-835f-39a6be5a8565",
   "metadata": {},
   "source": [
    "## Exercise 12\n",
    "Assign a boolean value False to a variable is_completed."
   ]
  },
  {
   "cell_type": "code",
   "execution_count": 12,
   "id": "a85eea7c-7caa-4d32-aaeb-d21c65ff4d26",
   "metadata": {},
   "outputs": [],
   "source": [
    "is_completed = False"
   ]
  },
  {
   "cell_type": "markdown",
   "id": "a629241d-9c9e-4999-b0b2-456fb288abf0",
   "metadata": {},
   "source": [
    "## Exercise 13\n",
    "Swap the values of two variables x and y."
   ]
  },
  {
   "cell_type": "code",
   "execution_count": 13,
   "id": "47f6ad25-d0fa-4702-b515-9d04ee69dd2f",
   "metadata": {},
   "outputs": [],
   "source": [
    "x, y = y, x"
   ]
  },
  {
   "cell_type": "markdown",
   "id": "25c713f6-48b4-4684-86af-beb56597be6c",
   "metadata": {},
   "source": [
    "## Exercise 14\n",
    "Assign a complex number 3 + 4j to a variable complex_num."
   ]
  },
  {
   "cell_type": "code",
   "execution_count": 14,
   "id": "2eb0a001-11fc-4737-92d2-975ebae6b648",
   "metadata": {},
   "outputs": [],
   "source": [
    "complex_num = 3 + 4j"
   ]
  },
  {
   "cell_type": "markdown",
   "id": "28b8b0ef-2668-4b63-93d7-5b84c5f01381",
   "metadata": {},
   "source": [
    "## Exercise 15\n",
    "Reassign a variable from an integer to a string."
   ]
  },
  {
   "cell_type": "markdown",
   "id": "619ae225-8756-4009-a08f-0bf81945bdfa",
   "metadata": {},
   "source": [
    "## Exercise 16\n",
    "Create two variables first_name and last_name, and assign them your first and last names."
   ]
  },
  {
   "cell_type": "code",
   "execution_count": 15,
   "id": "8cef90e7-e06d-4eb2-aba0-0dbe288d502f",
   "metadata": {},
   "outputs": [],
   "source": [
    "last_name = 'Tikome Nana'\n",
    "first_name = 'Ismaila'"
   ]
  },
  {
   "cell_type": "markdown",
   "id": "8a415e92-447c-4d0e-936a-544f14b2884c",
   "metadata": {},
   "source": [
    "## Exercise 17\n",
    "Create a variable temperature and assign it the value of 35.5."
   ]
  },
  {
   "cell_type": "code",
   "execution_count": 16,
   "id": "970713d5-674f-47ef-b505-f84ccbac95e3",
   "metadata": {},
   "outputs": [],
   "source": [
    "temperature = 35.5"
   ]
  },
  {
   "cell_type": "markdown",
   "id": "2d70f047-b060-4e7d-bcfa-a578f463749f",
   "metadata": {},
   "source": [
    "## Exercise 18\n",
    "Assign the result of the multiplication of two numbers 8 * 6 to a variable product."
   ]
  },
  {
   "cell_type": "code",
   "execution_count": 17,
   "id": "190dd672-815e-4d52-af91-d474ee270835",
   "metadata": {},
   "outputs": [],
   "source": [
    "product = 8 * 6"
   ]
  },
  {
   "cell_type": "markdown",
   "id": "b0b2587b-3995-4932-af28-8347b5a667fd",
   "metadata": {},
   "source": [
    "## Exercise 19\n",
    "Assign a sentence of your choice to a variable sentence."
   ]
  },
  {
   "cell_type": "code",
   "execution_count": 18,
   "id": "fd7e89b8-e181-4c25-8d92-ad1ea6b1c221",
   "metadata": {},
   "outputs": [],
   "source": [
    "sentence = 'Je suis Tikome, oui Tikome.'"
   ]
  },
  {
   "cell_type": "markdown",
   "id": "7b926c83-3c5f-46e0-99dc-dfd9ba587a08",
   "metadata": {},
   "source": [
    "## Exercise 20\n",
    "\n",
    "Use an assignment to convert a string '50' into an integer variable int_value."
   ]
  },
  {
   "cell_type": "code",
   "execution_count": 24,
   "id": "3b8514ce-e2a9-4906-a9ba-b16b67b621ca",
   "metadata": {},
   "outputs": [
    {
     "name": "stdout",
     "output_type": "stream",
     "text": [
      "50\n"
     ]
    },
    {
     "data": {
      "text/plain": [
       "int"
      ]
     },
     "execution_count": 24,
     "metadata": {},
     "output_type": "execute_result"
    }
   ],
   "source": [
    "string = '50'\n",
    "\n",
    "int_value = int(string)\n",
    "\n",
    "print(int_value)\n",
    "type(int_value)"
   ]
  },
  {
   "cell_type": "markdown",
   "id": "cbe7bc29-7d96-4414-b286-8cf8797e43c6",
   "metadata": {},
   "source": [
    "## Exercise 21:\n",
    "Assign the result of dividing 144 by 12 to a variable quotient."
   ]
  },
  {
   "cell_type": "code",
   "execution_count": 25,
   "id": "6d1920e8-d40d-41ed-8853-ca7f42068332",
   "metadata": {},
   "outputs": [
    {
     "data": {
      "text/plain": [
       "12.0"
      ]
     },
     "execution_count": 25,
     "metadata": {},
     "output_type": "execute_result"
    }
   ],
   "source": [
    "quotient = 144 / 12\n",
    "quotient"
   ]
  },
  {
   "cell_type": "markdown",
   "id": "7971ddcd-9bcc-4606-915e-191f22a7f7b8",
   "metadata": {},
   "source": [
    "## Exercise 22:\n",
    "Assign the remainder of 47 divided by 5 to a variable remainder."
   ]
  },
  {
   "cell_type": "code",
   "execution_count": 26,
   "id": "38745686-813a-4d26-a4fc-da4ea3879655",
   "metadata": {},
   "outputs": [
    {
     "data": {
      "text/plain": [
       "9.4"
      ]
     },
     "execution_count": 26,
     "metadata": {},
     "output_type": "execute_result"
    }
   ],
   "source": [
    "remainder = 47 / 5\n",
    "remainder"
   ]
  },
  {
   "cell_type": "markdown",
   "id": "5302dc7b-e2e1-454e-a82d-bfd086214850",
   "metadata": {},
   "source": [
    "## Exercise 23:\n",
    "Create a variable is_student and assign it the value True."
   ]
  },
  {
   "cell_type": "code",
   "execution_count": null,
   "id": "28512b96-ecaa-4eb8-a6e6-d304ffa14810",
   "metadata": {},
   "outputs": [],
   "source": [
    "is_student = True"
   ]
  },
  {
   "cell_type": "markdown",
   "id": "965f39db-5095-4cc7-8708-93619727431f",
   "metadata": {},
   "source": [
    "## Exercise 24:\n",
    "Use a variable to store the result of a modulo operation: 45 % 4."
   ]
  },
  {
   "cell_type": "code",
   "execution_count": 27,
   "id": "63fbe10b-c363-4b83-b949-f6a5334ce1bd",
   "metadata": {},
   "outputs": [
    {
     "data": {
      "text/plain": [
       "1"
      ]
     },
     "execution_count": 27,
     "metadata": {},
     "output_type": "execute_result"
    }
   ],
   "source": [
    "modulo = 45 % 4\n",
    "modulo"
   ]
  },
  {
   "cell_type": "markdown",
   "id": "1e20cf70-6a37-439f-a837-13e5a393dfe1",
   "metadata": {},
   "source": [
    "## Exercise 25:\n",
    "Create a variable pi and assign it the value 3.14159."
   ]
  },
  {
   "cell_type": "code",
   "execution_count": 28,
   "id": "6ad44505-1e9b-4b08-92fd-155681c34bb9",
   "metadata": {},
   "outputs": [
    {
     "data": {
      "text/plain": [
       "3.14159"
      ]
     },
     "execution_count": 28,
     "metadata": {},
     "output_type": "execute_result"
    }
   ],
   "source": [
    "pi = 3.14159\n",
    "pi"
   ]
  },
  {
   "cell_type": "markdown",
   "id": "5ee13b13-361f-4fb1-bb31-014437fb26b2",
   "metadata": {},
   "source": [
    "## Exercise 26:\n",
    "Create two variables length and width, assign them values, and calculate the area of a rectangle."
   ]
  },
  {
   "cell_type": "code",
   "execution_count": 29,
   "id": "66841981-8b7a-407b-98b9-705c1243c922",
   "metadata": {},
   "outputs": [
    {
     "data": {
      "text/plain": [
       "190"
      ]
     },
     "execution_count": 29,
     "metadata": {},
     "output_type": "execute_result"
    }
   ],
   "source": [
    "length = 10\n",
    "width = 19\n",
    "\n",
    "area = length * width\n",
    "area"
   ]
  },
  {
   "cell_type": "markdown",
   "id": "ce1f28ec-1bf3-4765-bfd4-07a51c83b879",
   "metadata": {},
   "source": [
    "## Exercise 27:\n",
    "Assign a negative number to a variable negative_value."
   ]
  },
  {
   "cell_type": "code",
   "execution_count": 30,
   "id": "423a2c6d-f249-4adf-a707-0e2621738a9c",
   "metadata": {},
   "outputs": [
    {
     "data": {
      "text/plain": [
       "-1"
      ]
     },
     "execution_count": 30,
     "metadata": {},
     "output_type": "execute_result"
    }
   ],
   "source": [
    "negative_value = -1\n",
    "negative_value"
   ]
  },
  {
   "cell_type": "markdown",
   "id": "08ab12e0-5352-4f75-b694-1fb847a7a14d",
   "metadata": {},
   "source": [
    "## Exercise 28:\n",
    "Assign a string containing a special character (e.g., \"Hello, World!\") to a variable greeting."
   ]
  },
  {
   "cell_type": "code",
   "execution_count": 31,
   "id": "aedc31f3-64aa-42a7-8ea2-01604ef53a98",
   "metadata": {},
   "outputs": [
    {
     "data": {
      "text/plain": [
       "'Hello world!'"
      ]
     },
     "execution_count": 31,
     "metadata": {},
     "output_type": "execute_result"
    }
   ],
   "source": [
    "greeting = 'Hello world!'\n",
    "greeting"
   ]
  },
  {
   "cell_type": "markdown",
   "id": "df283275-641b-485c-badf-4513c5381921",
   "metadata": {},
   "source": [
    "## Exercise 29:\n",
    "Create a variable population and assign it a large integer value (in billions)."
   ]
  },
  {
   "cell_type": "code",
   "execution_count": 32,
   "id": "d62dda95-7389-4d6b-8ba8-b456843c1ec5",
   "metadata": {},
   "outputs": [
    {
     "data": {
      "text/plain": [
       "1000000000"
      ]
     },
     "execution_count": 32,
     "metadata": {},
     "output_type": "execute_result"
    }
   ],
   "source": [
    "population = 1000000000\n",
    "population"
   ]
  },
  {
   "cell_type": "markdown",
   "id": "395148f3-af64-4d26-b320-39fd06007f7a",
   "metadata": {},
   "source": [
    "## Exercise 30:\n",
    "Use a variable to store the result of raising 2 to the power of 8."
   ]
  },
  {
   "cell_type": "code",
   "execution_count": 33,
   "id": "ea5c1189-83d9-485a-8fe8-bf7a5327679d",
   "metadata": {},
   "outputs": [
    {
     "data": {
      "text/plain": [
       "256"
      ]
     },
     "execution_count": 33,
     "metadata": {},
     "output_type": "execute_result"
    }
   ],
   "source": [
    "raising_value = 2**8\n",
    "raising_value"
   ]
  },
  {
   "cell_type": "markdown",
   "id": "b1c67d4c-d9f4-44b4-bf2e-231075c2d118",
   "metadata": {},
   "source": [
    "## Exercise 31:\n",
    "Assign a list of your favorite fruits to a variable fruits."
   ]
  },
  {
   "cell_type": "code",
   "execution_count": 36,
   "id": "97c86ecc-b67a-4221-be0b-1ad187004324",
   "metadata": {},
   "outputs": [
    {
     "data": {
      "text/plain": [
       "['apple', 'banana', 'orange', 'wathermelong']"
      ]
     },
     "execution_count": 36,
     "metadata": {},
     "output_type": "execute_result"
    }
   ],
   "source": [
    "fruits = ['apple', 'banana', 'orange', 'wathermelong']\n",
    "fruits"
   ]
  },
  {
   "cell_type": "markdown",
   "id": "ea0754a1-0756-4e04-8af6-ecf1bcc10f3c",
   "metadata": {},
   "source": [
    "## Exercise 32:\n",
    "Assign a tuple of three numbers to a variable coordinates."
   ]
  },
  {
   "cell_type": "code",
   "execution_count": 35,
   "id": "7edb78d9-4d63-4436-86c4-d147bbad984e",
   "metadata": {},
   "outputs": [
    {
     "data": {
      "text/plain": [
       "(1, 2, 3)"
      ]
     },
     "execution_count": 35,
     "metadata": {},
     "output_type": "execute_result"
    }
   ],
   "source": [
    "coordinates = (1, 2, 3)\n",
    "coordinates"
   ]
  },
  {
   "cell_type": "markdown",
   "id": "4a96bec2-858d-4c20-b1e2-1ff4056a091e",
   "metadata": {},
   "source": [
    "## Exercise 33:\n",
    "Assign a dictionary with keys name and age to a variable person."
   ]
  },
  {
   "cell_type": "code",
   "execution_count": 37,
   "id": "a6f17ca0-12e6-4208-b55f-370624c5441b",
   "metadata": {},
   "outputs": [
    {
     "data": {
      "text/plain": [
       "{'name': 'Tikome Nana Ismaila', 'age': 23}"
      ]
     },
     "execution_count": 37,
     "metadata": {},
     "output_type": "execute_result"
    }
   ],
   "source": [
    "person = {'name':'Tikome Nana Ismaila', 'age':23}\n",
    "person"
   ]
  },
  {
   "cell_type": "markdown",
   "id": "c61dd662-2501-4255-8baa-b4b32e9bd6e2",
   "metadata": {},
   "source": [
    "## Exercise 34:\n",
    "Use variables to store the sum of two floating-point numbers."
   ]
  },
  {
   "cell_type": "code",
   "execution_count": 38,
   "id": "042c3017-0ed3-473a-b8d0-30268a06332d",
   "metadata": {},
   "outputs": [
    {
     "data": {
      "text/plain": [
       "38.0"
      ]
     },
     "execution_count": 38,
     "metadata": {},
     "output_type": "execute_result"
    }
   ],
   "source": [
    "floating_number_1 = 19.5\n",
    "floating_number_2 = 18.5\n",
    "\n",
    "result = floating_number_1 + floating_number_2\n",
    "result"
   ]
  },
  {
   "cell_type": "markdown",
   "id": "c8d5e85f-3264-44d3-87f2-5361f6180725",
   "metadata": {},
   "source": [
    "## Exercise 35:\n",
    "Create a variable is_sunny and assign it the result of a comparison 10 > 5."
   ]
  },
  {
   "cell_type": "code",
   "execution_count": 39,
   "id": "e6b72963-dbf3-4018-b9e8-17de01accc99",
   "metadata": {},
   "outputs": [
    {
     "data": {
      "text/plain": [
       "True"
      ]
     },
     "execution_count": 39,
     "metadata": {},
     "output_type": "execute_result"
    }
   ],
   "source": [
    "is_sunny = 10 > 5\n",
    "is_sunny"
   ]
  },
  {
   "cell_type": "markdown",
   "id": "8e5de6e6-8b78-4c12-9cc1-5acc31c60e02",
   "metadata": {},
   "source": [
    "## Exercise 36:\n",
    "Assign a string and an integer to two different variables, then print both on one line."
   ]
  },
  {
   "cell_type": "code",
   "execution_count": 41,
   "id": "a7e21972-8e46-453d-b397-928db6886211",
   "metadata": {},
   "outputs": [
    {
     "name": "stdout",
     "output_type": "stream",
     "text": [
      "My name is Ismaila Tikome Nana I am 23 years old.\n"
     ]
    }
   ],
   "source": [
    "string = 'My name is Ismaila Tikome Nana'\n",
    "integer = 23\n",
    "print(f'{string} I am {integer} years old.')"
   ]
  },
  {
   "cell_type": "markdown",
   "id": "35478b9e-1c3d-4973-854d-5281e9917dd8",
   "metadata": {},
   "source": [
    "## Exercise 37:\n",
    "Reassign a variable that originally held a number to a boolean value."
   ]
  },
  {
   "cell_type": "code",
   "execution_count": 42,
   "id": "9f4e2788-1d8e-4613-81e6-402a64878161",
   "metadata": {},
   "outputs": [
    {
     "data": {
      "text/plain": [
       "True"
      ]
     },
     "execution_count": 42,
     "metadata": {},
     "output_type": "execute_result"
    }
   ],
   "source": [
    "valeur = 1\n",
    "valeur = bool(valeur)\n",
    "valeur"
   ]
  },
  {
   "cell_type": "markdown",
   "id": "5c048607-047e-47bb-a182-11aa0325fb02",
   "metadata": {},
   "source": [
    "## Exercise 38:\n",
    "Create a variable is_weekend and assign it the result of False."
   ]
  },
  {
   "cell_type": "code",
   "execution_count": 43,
   "id": "6ff10e89-91aa-44ed-82a1-69ba26675117",
   "metadata": {},
   "outputs": [
    {
     "data": {
      "text/plain": [
       "False"
      ]
     },
     "execution_count": 43,
     "metadata": {},
     "output_type": "execute_result"
    }
   ],
   "source": [
    "is_weekend = False\n",
    "is_weekend"
   ]
  },
  {
   "cell_type": "markdown",
   "id": "842f2711-53de-43f7-ad8c-42a97f129cdf",
   "metadata": {},
   "source": [
    "## Exercise 39:\n",
    "Assign a multi-line string to a variable description."
   ]
  },
  {
   "cell_type": "code",
   "execution_count": 45,
   "id": "74555fd8-b266-4cf4-890c-a63e1f37da6f",
   "metadata": {},
   "outputs": [
    {
     "name": "stdout",
     "output_type": "stream",
     "text": [
      "\n",
      "    Salut à tous, je suis Tikome Nana Ismaila.\n",
      "    Mon plus grand rêve?\n",
      "    C'est de dévenir Expert en Cybersecurity Chez Google, à la Silicon Valley aux Etats Unis.\n",
      "\n"
     ]
    }
   ],
   "source": [
    "description = \"\"\"\n",
    "    Salut à tous, je suis Tikome Nana Ismaila.\n",
    "    Mon plus grand rêve?\n",
    "    C'est de dévenir Expert en Cybersecurity Chez Google, à la Silicon Valley aux Etats Unis.\n",
    "\"\"\"\n",
    "\n",
    "print(description)"
   ]
  },
  {
   "cell_type": "markdown",
   "id": "b61cc9ed-5e1c-4408-a60d-0f2e66cd48c5",
   "metadata": {},
   "source": [
    "## Exercise 40:\n",
    "Use variables to store the result of the absolute value of -25."
   ]
  },
  {
   "cell_type": "code",
   "execution_count": 46,
   "id": "3e888a56-0565-418a-b0fc-d43e668c8bee",
   "metadata": {},
   "outputs": [
    {
     "data": {
      "text/plain": [
       "25"
      ]
     },
     "execution_count": 46,
     "metadata": {},
     "output_type": "execute_result"
    }
   ],
   "source": [
    "absolute_value = abs(-25)\n",
    "absolute_value"
   ]
  },
  {
   "cell_type": "markdown",
   "id": "93d15d46-162c-45ea-a0a4-4866ab35affd",
   "metadata": {},
   "source": [
    "## Exercise 41:\n",
    "Assign the result of a floor division 100 // 6 to a variable floor_div_result."
   ]
  },
  {
   "cell_type": "code",
   "execution_count": 47,
   "id": "52a7f2da-ae77-4fb4-9eb6-691b490cc8eb",
   "metadata": {},
   "outputs": [
    {
     "data": {
      "text/plain": [
       "16"
      ]
     },
     "execution_count": 47,
     "metadata": {},
     "output_type": "execute_result"
    }
   ],
   "source": [
    "floor_div_result = 100 // 6\n",
    "floor_div_result"
   ]
  },
  {
   "cell_type": "markdown",
   "id": "34f4f339-766e-4dc9-93f0-301da995e8d9",
   "metadata": {},
   "source": [
    "## Exercise 42:\n",
    "Assign the result of adding a floating-point number to an integer to a variable mixed_sum."
   ]
  },
  {
   "cell_type": "code",
   "execution_count": 49,
   "id": "d790878e-03d4-4516-8523-99c2d0139934",
   "metadata": {},
   "outputs": [
    {
     "data": {
      "text/plain": [
       "41.5"
      ]
     },
     "execution_count": 49,
     "metadata": {},
     "output_type": "execute_result"
    }
   ],
   "source": [
    "integer_value = 19\n",
    "float_value = 18.5\n",
    "\n",
    "mixed_sum = integer + float_value\n",
    "mixed_sum"
   ]
  },
  {
   "cell_type": "markdown",
   "id": "7278b51e-e4e9-4882-9ebe-dff6989c6d00",
   "metadata": {},
   "source": [
    "## Exercise 43:\n",
    "Assign a boolean value based on the comparison of two variables a = 10 and b = 15."
   ]
  },
  {
   "cell_type": "code",
   "execution_count": 50,
   "id": "8bf0cc71-414e-4b8e-9cdd-e01b675833b6",
   "metadata": {},
   "outputs": [
    {
     "data": {
      "text/plain": [
       "True"
      ]
     },
     "execution_count": 50,
     "metadata": {},
     "output_type": "execute_result"
    }
   ],
   "source": [
    "boolean_value = a < b\n",
    "boolean_value"
   ]
  },
  {
   "cell_type": "markdown",
   "id": "615ad91a-907d-48a9-ae5a-379f3ccfe247",
   "metadata": {},
   "source": [
    "## Exercise 44:\n",
    "Assign a long sentence to a variable and count its characters using len()."
   ]
  },
  {
   "cell_type": "code",
   "execution_count": 51,
   "id": "3d984b96-ab96-4a9e-a6f1-08a181da2e8d",
   "metadata": {},
   "outputs": [
    {
     "data": {
      "text/plain": [
       "23"
      ]
     },
     "execution_count": 51,
     "metadata": {},
     "output_type": "execute_result"
    }
   ],
   "source": [
    "sentence = 'I\\'m not afraid to fail.'\n",
    "len(sentence)"
   ]
  },
  {
   "cell_type": "markdown",
   "id": "2a51fec5-1a74-48fd-8e68-0798935ceec0",
   "metadata": {},
   "source": [
    "## Exercise 45:\n",
    "Assign a fractional result 7 / 3 to a variable division_result."
   ]
  },
  {
   "cell_type": "code",
   "execution_count": 52,
   "id": "185d8018-94ed-43cb-bf63-270c49305f39",
   "metadata": {},
   "outputs": [
    {
     "data": {
      "text/plain": [
       "2.3333333333333335"
      ]
     },
     "execution_count": 52,
     "metadata": {},
     "output_type": "execute_result"
    }
   ],
   "source": [
    "division_result = 7/3\n",
    "division_result"
   ]
  },
  {
   "cell_type": "markdown",
   "id": "cb6e824d-40a3-447c-b319-948a667046bc",
   "metadata": {},
   "source": [
    "## Exercise 46:\n",
    "Create a variable speed and assign it the value of 100 kilometers per hour."
   ]
  },
  {
   "cell_type": "code",
   "execution_count": 54,
   "id": "463a0352-d85e-45e2-b312-0b0baaa366a7",
   "metadata": {},
   "outputs": [
    {
     "name": "stdout",
     "output_type": "stream",
     "text": [
      "Speed : 1.6666666666666667 kilometers per minute.\n"
     ]
    }
   ],
   "source": [
    "speed = 100/60\n",
    "print(f'Speed : {speed} kilometers per minute.')"
   ]
  },
  {
   "cell_type": "markdown",
   "id": "a1a2d9d6-20dd-4deb-baf8-ae4e6a8f0654",
   "metadata": {},
   "source": [
    "## Exercise 47:\n",
    "Assign a multi-variable equation like y = 3x + 5 where x = 4 to a variable y."
   ]
  },
  {
   "cell_type": "code",
   "execution_count": 56,
   "id": "7dc0e140-bc91-4a0f-9089-f778b41e0c6e",
   "metadata": {},
   "outputs": [
    {
     "data": {
      "text/plain": [
       "17"
      ]
     },
     "execution_count": 56,
     "metadata": {},
     "output_type": "execute_result"
    }
   ],
   "source": [
    "x = 4\n",
    "y = 3*x + 5\n",
    "y"
   ]
  },
  {
   "cell_type": "markdown",
   "id": "000938e9-7772-4a0b-8419-2fc830a97349",
   "metadata": {},
   "source": [
    "## Exercise 48:\n",
    "Use variables to calculate and store the average of three numbers."
   ]
  },
  {
   "cell_type": "code",
   "execution_count": 57,
   "id": "a36f0599-aaab-49d2-aa50-29fb8040ad59",
   "metadata": {},
   "outputs": [
    {
     "data": {
      "text/plain": [
       "19.0"
      ]
     },
     "execution_count": 57,
     "metadata": {},
     "output_type": "execute_result"
    }
   ],
   "source": [
    "number_1 = 19\n",
    "number_2 = 20\n",
    "number_3 = 18\n",
    "\n",
    "average = (number_1 + number_2 + number_3) / 3\n",
    "average"
   ]
  }
 ],
 "metadata": {
  "kernelspec": {
   "display_name": "Python 3 (ipykernel)",
   "language": "python",
   "name": "python3"
  },
  "language_info": {
   "codemirror_mode": {
    "name": "ipython",
    "version": 3
   },
   "file_extension": ".py",
   "mimetype": "text/x-python",
   "name": "python",
   "nbconvert_exporter": "python",
   "pygments_lexer": "ipython3",
   "version": "3.13.5"
  }
 },
 "nbformat": 4,
 "nbformat_minor": 5
}
