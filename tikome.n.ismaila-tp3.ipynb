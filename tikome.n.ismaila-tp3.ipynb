{
 "cells": [
  {
   "cell_type": "markdown",
   "id": "78e35385-eb92-43a8-b993-7c2a1a97f5d1",
   "metadata": {},
   "source": [
    "### Exercise 1:\n",
    "Create a list of integers from 1 to 10."
   ]
  },
  {
   "cell_type": "code",
   "execution_count": 2,
   "id": "e2b81198-6236-484c-b031-5be19c2c06c0",
   "metadata": {},
   "outputs": [
    {
     "name": "stdout",
     "output_type": "stream",
     "text": [
      "[1, 2, 3, 4, 5, 6, 7, 8, 9, 10]\n"
     ]
    }
   ],
   "source": [
    "list_integers = [i for i in range(1, 11)]\n",
    "print(list_integers)"
   ]
  },
  {
   "cell_type": "markdown",
   "id": "9957cf45-8326-4f5b-b310-ee3734f195af",
   "metadata": {},
   "source": [
    "### Exercise 2:\n",
    "Create a tuple containing the elements `\"apple\"`, `\"banana\"`, and `\"cherry\"`."
   ]
  },
  {
   "cell_type": "code",
   "execution_count": 3,
   "id": "e0430ab2-983a-46e0-8e62-04f4fd14a734",
   "metadata": {},
   "outputs": [
    {
     "data": {
      "text/plain": [
       "('apple', 'banana', 'cherry')"
      ]
     },
     "execution_count": 3,
     "metadata": {},
     "output_type": "execute_result"
    }
   ],
   "source": [
    "tuple_elements = ('apple', 'banana', 'cherry')\n",
    "tuple_elements"
   ]
  },
  {
   "cell_type": "markdown",
   "id": "c8979268-9e02-4eb4-bc29-c1cbdbe78b28",
   "metadata": {},
   "source": [
    "### Exercise 3:\n",
    "Convert the list `numbers = [10, 20, 30, 40]` into a tuple."
   ]
  },
  {
   "cell_type": "code",
   "execution_count": 4,
   "id": "dd440d10-6cb6-4c52-90d2-94c9a950a72c",
   "metadata": {},
   "outputs": [
    {
     "data": {
      "text/plain": [
       "(10, 20, 30, 40)"
      ]
     },
     "execution_count": 4,
     "metadata": {},
     "output_type": "execute_result"
    }
   ],
   "source": [
    "numbers = [10, 20, 30, 40]\n",
    "numbers = tuple(numbers)\n",
    "numbers"
   ]
  },
  {
   "cell_type": "markdown",
   "id": "8fd128a2-5860-4c27-b13f-9ca1bb4f7ac1",
   "metadata": {},
   "source": [
    "### Exercise 4:\n",
    "Create a set containing the elements `1, 2, 3, 4, 5`."
   ]
  },
  {
   "cell_type": "code",
   "execution_count": 5,
   "id": "d8584a31-aa08-4fa1-a660-3504a0f45eb6",
   "metadata": {},
   "outputs": [
    {
     "data": {
      "text/plain": [
       "{1, 2, 3, 4, 5}"
      ]
     },
     "execution_count": 5,
     "metadata": {},
     "output_type": "execute_result"
    }
   ],
   "source": [
    "set_elements = {1, 2, 3, 4, 5}\n",
    "set_elements"
   ]
  },
  {
   "cell_type": "markdown",
   "id": "8fd87cbc-d34c-439c-be41-f15e7d525178",
   "metadata": {},
   "source": [
    "### Exercise 5:\n",
    "Create a dictionary `student` with the keys `\"name\"`, `\"age\"`, and `\"grade\"` and corresponding values `\"Alice\"`, `20`, and `\"A\"`."
   ]
  },
  {
   "cell_type": "code",
   "execution_count": 6,
   "id": "217b0349-5acc-4be2-86a9-990ab292644c",
   "metadata": {},
   "outputs": [
    {
     "data": {
      "text/plain": [
       "{'name': 'Alice', 'age': 20, 'grade': 'A'}"
      ]
     },
     "execution_count": 6,
     "metadata": {},
     "output_type": "execute_result"
    }
   ],
   "source": [
    "student = {\n",
    "    'name':'Alice',\n",
    "    'age' : 20,\n",
    "    'grade' : 'A'\n",
    "}\n",
    "\n",
    "student"
   ]
  },
  {
   "cell_type": "markdown",
   "id": "548238af-899a-41b9-8ac5-d0810e98448b",
   "metadata": {},
   "source": [
    "### Exercise 6:\n",
    "Access the second element of the list `[10, 20, 30, 40, 50]` using indexing."
   ]
  },
  {
   "cell_type": "code",
   "execution_count": 7,
   "id": "a3071711-8506-4e09-9388-ba1f8134ccd7",
   "metadata": {},
   "outputs": [
    {
     "data": {
      "text/plain": [
       "20"
      ]
     },
     "execution_count": 7,
     "metadata": {},
     "output_type": "execute_result"
    }
   ],
   "source": [
    "list_elements = [10, 20, 30, 40, 50]\n",
    "list_elements[1]"
   ]
  },
  {
   "cell_type": "markdown",
   "id": "7a168dca-5db3-47a3-b45d-a6da22ebb04a",
   "metadata": {},
   "source": [
    "### Exercise 7:\n",
    "Change the third element of the list `fruits = [\"apple\", \"banana\", \"cherry\", \"orange\"]` to `\"mango\"`."
   ]
  },
  {
   "cell_type": "code",
   "execution_count": 8,
   "id": "ac41e89a-b7c9-4e9e-9a7d-a28dfdd4f91b",
   "metadata": {},
   "outputs": [
    {
     "data": {
      "text/plain": [
       "['apple', 'banana', 'mango', 'orange']"
      ]
     },
     "execution_count": 8,
     "metadata": {},
     "output_type": "execute_result"
    }
   ],
   "source": [
    "fruits = [\"apple\", \"banana\", \"cherry\", \"orange\"]\n",
    "fruits[2] = 'mango'\n",
    "fruits"
   ]
  },
  {
   "cell_type": "markdown",
   "id": "0d8e2503-ac1d-4b80-a161-5d08ec5d8bfe",
   "metadata": {},
   "source": [
    "### Exercise 8:\n",
    "Add the number `6` to the set `numbers = {1, 2, 3, 4, 5}`."
   ]
  },
  {
   "cell_type": "code",
   "execution_count": 9,
   "id": "204cdc34-23b5-420b-823d-6906acf2cdd2",
   "metadata": {},
   "outputs": [
    {
     "data": {
      "text/plain": [
       "{1, 2, 3, 4, 5, 6}"
      ]
     },
     "execution_count": 9,
     "metadata": {},
     "output_type": "execute_result"
    }
   ],
   "source": [
    "numbers = {1, 2, 3, 4, 5}\n",
    "numbers.add(6)\n",
    "numbers"
   ]
  },
  {
   "cell_type": "markdown",
   "id": "2b1b15b1-5625-4131-a221-f25847677b0e",
   "metadata": {},
   "source": [
    "### Exercise 9:\n",
    "Remove the key `\"age\"` from the dictionary `person = {\"name\": \"John\", \"age\": 25, \"city\": \"New York\"}`."
   ]
  },
  {
   "cell_type": "code",
   "execution_count": 10,
   "id": "a1421a9c-573b-4662-8c42-7683c2d41a0e",
   "metadata": {},
   "outputs": [
    {
     "data": {
      "text/plain": [
       "{'name': 'John', 'city': 'New York'}"
      ]
     },
     "execution_count": 10,
     "metadata": {},
     "output_type": "execute_result"
    }
   ],
   "source": [
    "person = {\"name\": \"John\", \"age\": 25, \"city\": \"New York\"}\n",
    "del person['age']\n",
    "person"
   ]
  },
  {
   "cell_type": "markdown",
   "id": "4bd5e191-1092-4a77-91a8-4666b6229982",
   "metadata": {},
   "source": [
    "### Exercise 10:\n",
    "Create a range object starting from 0 to 9."
   ]
  },
  {
   "cell_type": "code",
   "execution_count": 12,
   "id": "761c4b6e-1762-4e7e-b0df-8adb93ca5b13",
   "metadata": {},
   "outputs": [
    {
     "name": "stdout",
     "output_type": "stream",
     "text": [
      "0\n",
      "1\n",
      "2\n",
      "3\n",
      "4\n",
      "5\n",
      "6\n",
      "7\n",
      "8\n",
      "9\n"
     ]
    }
   ],
   "source": [
    "for object in range(10):\n",
    "    print(object)"
   ]
  },
  {
   "cell_type": "markdown",
   "id": "a5b80095-49cb-43c5-89f4-aa247c2c2856",
   "metadata": {},
   "source": [
    "### Exercise 11:\n",
    "Use a list comprehension to create a list of squares of numbers from 1 to 10."
   ]
  },
  {
   "cell_type": "code",
   "execution_count": 13,
   "id": "3ae545a8-ced0-4d67-bc2b-5365fdfd3f82",
   "metadata": {},
   "outputs": [
    {
     "data": {
      "text/plain": [
       "[1, 4, 9, 16, 25, 36, 49, 64, 81, 100]"
      ]
     },
     "execution_count": 13,
     "metadata": {},
     "output_type": "execute_result"
    }
   ],
   "source": [
    "list_of_squares = [i**2 for i in range(1, 11)]\n",
    "list_of_squares"
   ]
  },
  {
   "cell_type": "markdown",
   "id": "76c655fa-620f-4cf6-8096-a53c31442f84",
   "metadata": {},
   "source": [
    "### Exercise 12:\n",
    "Create a tuple of even numbers between 2 and 10 using a tuple comprehension."
   ]
  },
  {
   "cell_type": "code",
   "execution_count": 17,
   "id": "f2e99193-a98c-431f-8e47-0ab2cc07ce61",
   "metadata": {},
   "outputs": [
    {
     "data": {
      "text/plain": [
       "(2, 4, 6, 8, 10)"
      ]
     },
     "execution_count": 17,
     "metadata": {},
     "output_type": "execute_result"
    }
   ],
   "source": [
    "tuple_of_even = [i for i in range(2, 11) if i%2 == 0]\n",
    "tuple_of_even = tuple(tuple_of_even)\n",
    "tuple_of_even"
   ]
  },
  {
   "cell_type": "markdown",
   "id": "5850166e-b345-4017-917f-cd3db92d21f5",
   "metadata": {},
   "source": [
    "### Exercise 13:\n",
    "Use a for loop to iterate through the list `fruits = [\"apple\", \"banana\", \"cherry\"]` and print each element."
   ]
  },
  {
   "cell_type": "code",
   "execution_count": 19,
   "id": "3d16e039-e1bd-46f3-b1b1-7edefd3cb3c1",
   "metadata": {},
   "outputs": [
    {
     "name": "stdout",
     "output_type": "stream",
     "text": [
      "apple\n",
      "banana\n",
      "cherry\n"
     ]
    }
   ],
   "source": [
    "fruits = [\"apple\", \"banana\", \"cherry\"]\n",
    "for element in fruits:\n",
    "    print(element)"
   ]
  },
  {
   "cell_type": "markdown",
   "id": "95828c7f-4013-4e2f-8749-961e0299e377",
   "metadata": {},
   "source": [
    "### Exercise 14:\n",
    "Check if the value `3` exists in the set `numbers = {1, 2, 3, 4, 5}`."
   ]
  },
  {
   "cell_type": "code",
   "execution_count": 20,
   "id": "31743179-194c-4aba-8f54-64a7a92bb3da",
   "metadata": {},
   "outputs": [
    {
     "name": "stdout",
     "output_type": "stream",
     "text": [
      "True\n"
     ]
    }
   ],
   "source": [
    "numbers = {1, 2, 3, 4, 5}\n",
    "print(3 in numbers)"
   ]
  },
  {
   "cell_type": "markdown",
   "id": "66f782a4-1734-4840-bc84-31f464adc2bc",
   "metadata": {},
   "source": [
    "### Exercise 15:\n",
    "Use the `len()` function to find the length of the tuple `numbers = (10, 20, 30)`."
   ]
  },
  {
   "cell_type": "code",
   "execution_count": 21,
   "id": "ef531a65-d275-4165-8184-2af2900b9d44",
   "metadata": {},
   "outputs": [
    {
     "data": {
      "text/plain": [
       "3"
      ]
     },
     "execution_count": 21,
     "metadata": {},
     "output_type": "execute_result"
    }
   ],
   "source": [
    "numbers = (10, 20, 30)\n",
    "len(numbers)"
   ]
  },
  {
   "cell_type": "markdown",
   "id": "526a1abf-126e-4a9d-9ebd-b13e9e8f64a3",
   "metadata": {},
   "source": [
    "### Exercise 16:\n",
    "Add the value `100` at the end of the list `scores = [80, 85, 90, 95]`."
   ]
  },
  {
   "cell_type": "code",
   "execution_count": 22,
   "id": "c3b2e0c8-9ce6-4ca7-afcd-a3d6031681bb",
   "metadata": {},
   "outputs": [
    {
     "data": {
      "text/plain": [
       "[80, 85, 90, 95, 100]"
      ]
     },
     "execution_count": 22,
     "metadata": {},
     "output_type": "execute_result"
    }
   ],
   "source": [
    "scores = [80, 85, 90, 95]\n",
    "scores.append(100)\n",
    "scores"
   ]
  },
  {
   "cell_type": "markdown",
   "id": "86b04f4a-33d7-4727-ba2c-a3e5dd9f0521",
   "metadata": {},
   "source": [
    "### Exercise 17:\n",
    "Write a function that takes a list as input and returns the sum of all elements in the list."
   ]
  },
  {
   "cell_type": "code",
   "execution_count": 24,
   "id": "0fbc2119-7ee8-4ee2-96ad-53b38b6a82ac",
   "metadata": {},
   "outputs": [
    {
     "name": "stdout",
     "output_type": "stream",
     "text": [
      "45\n"
     ]
    }
   ],
   "source": [
    "def sum_of_list_of_elements(list_of_elements):\n",
    "    return sum(list_of_elements)\n",
    "print(sum_of_list_of_elements([i for i in range(10)]))"
   ]
  },
  {
   "cell_type": "markdown",
   "id": "5f1c0379-f3f3-4bd3-bc46-3b81a83fe7c6",
   "metadata": {},
   "source": [
    "### Exercise 18:\n",
    "Create a set containing the unique elements of the list `numbers = [1, 2, 2, 3, 4, 4, 5]`."
   ]
  },
  {
   "cell_type": "code",
   "execution_count": 25,
   "id": "6f2deac8-291e-4025-a0df-d7ce84580a20",
   "metadata": {},
   "outputs": [
    {
     "data": {
      "text/plain": [
       "{1, 2, 3, 4, 5}"
      ]
     },
     "execution_count": 25,
     "metadata": {},
     "output_type": "execute_result"
    }
   ],
   "source": [
    "numbers = [1, 2, 2, 3, 4, 4, 5]\n",
    "set_elements = set(numbers)\n",
    "\n",
    "set_elements"
   ]
  },
  {
   "cell_type": "markdown",
   "id": "cdc49254-3c6f-47a2-acbd-f418a72f5fd6",
   "metadata": {},
   "source": [
    "### Exercise 19:\n",
    "Convert the string `\"hello\"` into a list of characters."
   ]
  },
  {
   "cell_type": "code",
   "execution_count": 26,
   "id": "b826ea1e-2e62-4fca-88b5-b144d0b839e8",
   "metadata": {},
   "outputs": [
    {
     "data": {
      "text/plain": [
       "['h', 'e', 'l', 'l', 'o']"
      ]
     },
     "execution_count": 26,
     "metadata": {},
     "output_type": "execute_result"
    }
   ],
   "source": [
    "string = 'hello'\n",
    "list_of_caracters = [i for i in string]\n",
    "list_of_caracters"
   ]
  },
  {
   "cell_type": "markdown",
   "id": "5a1637e6-87a4-4136-9a30-c7d47dd55599",
   "metadata": {},
   "source": [
    "### Exercise 20:\n",
    "Write a Python function that reverses a tuple `(1, 2, 3, 4)`."
   ]
  },
  {
   "cell_type": "code",
   "execution_count": 33,
   "id": "2b74e267-215d-41de-b0bf-72238497a13a",
   "metadata": {},
   "outputs": [
    {
     "data": {
      "text/plain": [
       "(4, 3, 2, 1)"
      ]
     },
     "execution_count": 33,
     "metadata": {},
     "output_type": "execute_result"
    }
   ],
   "source": [
    "tuple_elements = (1, 2, 3, 4)\n",
    "tuple_elements = list(tuple_elements)\n",
    "tuple_elements.reverse()\n",
    "tuple_elements\n",
    "tuple_elements = tuple(tuple_elements)\n",
    "tuple_elements"
   ]
  },
  {
   "cell_type": "markdown",
   "id": "2213ea56-5a72-4589-8741-c737177ff6fd",
   "metadata": {},
   "source": [
    "### Exercise 21:\n",
    "Merge two dictionaries `dict1 = {\"a\": 1, \"b\": 2}` and `dict2 = {\"c\": 3, \"d\": 4}` into a single dictionary."
   ]
  },
  {
   "cell_type": "code",
   "execution_count": 35,
   "id": "bfd6fddc-5986-4e86-804a-0d5df898060a",
   "metadata": {},
   "outputs": [
    {
     "data": {
      "text/plain": [
       "{'a': 1, 'b': 2, 'c': 3, 'd': 4}"
      ]
     },
     "execution_count": 35,
     "metadata": {},
     "output_type": "execute_result"
    }
   ],
   "source": [
    "dict1 = {'a':1, 'b':2}\n",
    "dict2 = {'c':3, 'd':4}\n",
    "\n",
    "dict1.update(dict2)\n",
    "dict1"
   ]
  },
  {
   "cell_type": "markdown",
   "id": "9bb1004c-bd94-405d-8f11-425632f79bfd",
   "metadata": {},
   "source": [
    "### Exercise 22:\n",
    "Create a dictionary where keys are numbers from 1 to 5, and values are their squares."
   ]
  },
  {
   "cell_type": "code",
   "execution_count": 37,
   "id": "584a3e27-ea8c-4be1-97fe-a577361d9cd9",
   "metadata": {},
   "outputs": [
    {
     "data": {
      "text/plain": [
       "{1: 1, 2: 4, 3: 9, 4: 16, 5: 25}"
      ]
     },
     "execution_count": 37,
     "metadata": {},
     "output_type": "execute_result"
    }
   ],
   "source": [
    "dic = {i:i**2 for i in range(1, 6)}\n",
    "dic"
   ]
  },
  {
   "cell_type": "markdown",
   "id": "484f8647-4139-43da-967d-f664e353ca36",
   "metadata": {},
   "source": [
    "### Exercise 23:\n",
    "Write a Python program to iterate through a dictionary and print each key-value pair."
   ]
  },
  {
   "cell_type": "code",
   "execution_count": 39,
   "id": "ce5115c6-7933-4fa9-a9da-90b2065a405b",
   "metadata": {},
   "outputs": [
    {
     "name": "stdout",
     "output_type": "stream",
     "text": [
      "1 : 1\n",
      "2 : 4\n",
      "3 : 9\n",
      "4 : 16\n",
      "5 : 25\n"
     ]
    }
   ],
   "source": [
    "for i in dic:\n",
    "    print(f'{i} : {dic[i]}')"
   ]
  },
  {
   "cell_type": "markdown",
   "id": "b97d6394-202f-4d21-a5d3-0d0b50e112af",
   "metadata": {},
   "source": [
    "### Exercise 24:\n",
    "Create a list of the first 5 letters of the alphabet using the `chr()` function."
   ]
  },
  {
   "cell_type": "code",
   "execution_count": 40,
   "id": "8206eb9a-d060-473d-8b23-5dcb6a12e682",
   "metadata": {},
   "outputs": [
    {
     "data": {
      "text/plain": [
       "['a', 'b', 'c', 'd', 'e']"
      ]
     },
     "execution_count": 40,
     "metadata": {},
     "output_type": "execute_result"
    }
   ],
   "source": [
    "list_alphabet = [chr(i) for i in range(97, 102)]\n",
    "list_alphabet"
   ]
  },
  {
   "cell_type": "markdown",
   "id": "774937b5-4df6-4c99-ad3a-251c5690bb64",
   "metadata": {},
   "source": [
    "### Exercise 25:\n",
    "Use the `zip()` function to combine two lists `[1, 2, 3]` and `[\"a\", \"b\", \"c\"]` into a list of tuples."
   ]
  },
  {
   "cell_type": "code",
   "execution_count": 44,
   "id": "0bc775dd-8ce0-4580-8c00-663ef114c99a",
   "metadata": {},
   "outputs": [
    {
     "data": {
      "text/plain": [
       "[(1, 'a'), (2, 'b'), (3, 'c')]"
      ]
     },
     "execution_count": 44,
     "metadata": {},
     "output_type": "execute_result"
    }
   ],
   "source": [
    "list1 = [1, 2, 3]\n",
    "list2 = ['a', 'b', 'c']\n",
    "\n",
    "list3 = list(zip(list1, list2))\n",
    "list3"
   ]
  },
  {
   "cell_type": "markdown",
   "id": "d1221877-3a96-434c-8e77-d89fc972fa30",
   "metadata": {},
   "source": [
    "### Exercise 26:\n",
    "Find the index of the value `50` in the list `[10, 20, 30, 40, 50]`."
   ]
  },
  {
   "cell_type": "code",
   "execution_count": 45,
   "id": "fd4ac4d2-e2fd-4535-8a1a-f68186f1c09e",
   "metadata": {},
   "outputs": [
    {
     "name": "stdout",
     "output_type": "stream",
     "text": [
      "4\n"
     ]
    }
   ],
   "source": [
    "list_elements = [10, 20, 30, 40, 50]\n",
    "print(list_elements.index(50))"
   ]
  },
  {
   "cell_type": "markdown",
   "id": "6d03a5f3-7084-4956-a0ef-2f2442582ee9",
   "metadata": {},
   "source": [
    "### Exercise 27:\n",
    "Sort the list `names = [\"Alice\", \"Bob\", \"Charlie\", \"David\"]` in alphabetical order."
   ]
  },
  {
   "cell_type": "code",
   "execution_count": 47,
   "id": "5cebc400-de60-4c69-bf9e-4b4730d0a453",
   "metadata": {},
   "outputs": [
    {
     "data": {
      "text/plain": [
       "['Alice', 'Bob', 'Charlie', 'David']"
      ]
     },
     "execution_count": 47,
     "metadata": {},
     "output_type": "execute_result"
    }
   ],
   "source": [
    "names = [\"Alice\", \"Bob\", \"Charlie\", \"David\"]\n",
    "names.sort()\n",
    "names"
   ]
  },
  {
   "cell_type": "markdown",
   "id": "ad2dde28-ee52-499c-9ed6-576dd6fbf6b0",
   "metadata": {},
   "source": [
    "### Exercise 28:\n",
    "Write a Python function that takes a list of integers as input and returns the largest number."
   ]
  },
  {
   "cell_type": "code",
   "execution_count": 48,
   "id": "3f111f2c-e91c-418c-971a-6355bd0d85f6",
   "metadata": {},
   "outputs": [
    {
     "name": "stdout",
     "output_type": "stream",
     "text": [
      "5\n"
     ]
    }
   ],
   "source": [
    "def largest_number(list_integers):\n",
    "    return max(list_integers)\n",
    "\n",
    "print(largest_number([1, 2, 3, 4, 5]))"
   ]
  },
  {
   "cell_type": "markdown",
   "id": "efe9034b-1c1d-45c2-bcbf-454791466ab7",
   "metadata": {},
   "source": [
    "### Exercise 29:\n",
    "Use the `count()` method to count how many times `\"apple\"` appears in the list `fruits = [\"apple\", \"banana\", \"apple\", \"orange\"]`."
   ]
  },
  {
   "cell_type": "code",
   "execution_count": 49,
   "id": "e3ece834-24fb-4e26-9d1b-c0445005500c",
   "metadata": {},
   "outputs": [
    {
     "name": "stdout",
     "output_type": "stream",
     "text": [
      "2\n"
     ]
    }
   ],
   "source": [
    "fruits = [\"apple\", \"banana\", \"apple\", \"orange\"]\n",
    "number_of_times = fruits.count('apple')\n",
    "print(number_of_times)"
   ]
  },
  {
   "cell_type": "markdown",
   "id": "d271d611-eea6-4e2f-a587-2867c22d07fd",
   "metadata": {},
   "source": [
    "### Exercise 30:\n",
    "Create a dictionary `person` where keys are `\"name\"`, `\"age\"`, and `\"city\"`, and values are `\"Alice\"`, `25`, and `\"New York\"` respectively. Then access the value of the `\"city\"` key."
   ]
  },
  {
   "cell_type": "code",
   "execution_count": 50,
   "id": "bfa8813b-5bdc-46e7-aa10-d7155ba3ef86",
   "metadata": {},
   "outputs": [
    {
     "data": {
      "text/plain": [
       "'New York'"
      ]
     },
     "execution_count": 50,
     "metadata": {},
     "output_type": "execute_result"
    }
   ],
   "source": [
    "person = {\n",
    "    'name' : 'Alice',\n",
    "    'age': 25,\n",
    "    'city': 'New York'\n",
    "}\n",
    "\n",
    "person['city']"
   ]
  },
  {
   "cell_type": "markdown",
   "id": "c1f60a57-edb8-4760-9f98-ea804f60ecf7",
   "metadata": {},
   "source": [
    "### Exercise 31:\n",
    "Write a Python function that takes a list as input and returns a new list with all duplicates removed."
   ]
  },
  {
   "cell_type": "code",
   "execution_count": 51,
   "id": "d88a47db-7ee9-4f9a-b726-1d6bee103dbe",
   "metadata": {},
   "outputs": [
    {
     "name": "stdout",
     "output_type": "stream",
     "text": [
      "[1, 2, 3, 4, 7, 8]\n"
     ]
    }
   ],
   "source": [
    "def duplicated_removed(list_elements):\n",
    "    list_elements = set(list_elements)\n",
    "    return list(list_elements)\n",
    "\n",
    "print(duplicated_removed([1, 2, 1, 3, 7, 2, 3, 4, 8, 4]))"
   ]
  }
 ],
 "metadata": {
  "kernelspec": {
   "display_name": "Python 3 (ipykernel)",
   "language": "python",
   "name": "python3"
  },
  "language_info": {
   "codemirror_mode": {
    "name": "ipython",
    "version": 3
   },
   "file_extension": ".py",
   "mimetype": "text/x-python",
   "name": "python",
   "nbconvert_exporter": "python",
   "pygments_lexer": "ipython3",
   "version": "3.13.5"
  }
 },
 "nbformat": 4,
 "nbformat_minor": 5
}
